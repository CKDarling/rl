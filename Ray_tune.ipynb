{
 "cells": [
  {
   "cell_type": "code",
   "execution_count": 1,
   "metadata": {},
   "outputs": [
    {
     "data": {
      "text/plain": [
       "4"
      ]
     },
     "execution_count": 1,
     "metadata": {},
     "output_type": "execute_result"
    }
   ],
   "source": [
    "import multiprocessing\n",
    "\n",
    "import tensorflow as tf\n",
    "\n",
    "import ray\n",
    "\n",
    "n_cpus = multiprocessing.cpu_count()\n",
    "n_cpus"
   ]
  },
  {
   "cell_type": "code",
   "execution_count": 2,
   "metadata": {},
   "outputs": [
    {
     "data": {
      "text/plain": [
       "1"
      ]
     },
     "execution_count": 2,
     "metadata": {},
     "output_type": "execute_result"
    }
   ],
   "source": [
    "n_gpus = len(tf.config.list_physical_devices('GPU'))\n",
    "n_gpus"
   ]
  },
  {
   "cell_type": "code",
   "execution_count": 3,
   "metadata": {},
   "outputs": [
    {
     "name": "stderr",
     "output_type": "stream",
     "text": [
      "2020-02-24 12:31:05,808\tWARNING services.py:592 -- setpgrp failed, processes may not be cleaned up properly: [Errno 1] Operation not permitted.\n",
      "2020-02-24 12:31:05,810\tINFO resource_spec.py:212 -- Starting Ray with 5.86 GiB memory available for workers and up to 2.94 GiB for objects. You can adjust these settings with ray.init(memory=<bytes>, object_store_memory=<bytes>).\n",
      "2020-02-24 12:31:06,260\tINFO services.py:1093 -- View the Ray dashboard at \u001b[1m\u001b[32m172.30.1.184:8268\u001b[39m\u001b[22m\n"
     ]
    },
    {
     "data": {
      "text/plain": [
       "{'node_ip_address': '172.30.1.184',\n",
       " 'redis_address': '172.30.1.184:37548',\n",
       " 'object_store_address': '/tmp/ray/session_2020-02-24_12-31-05_807697_9762/sockets/plasma_store',\n",
       " 'raylet_socket_name': '/tmp/ray/session_2020-02-24_12-31-05_807697_9762/sockets/raylet',\n",
       " 'webui_url': '172.30.1.184:8268',\n",
       " 'session_dir': '/tmp/ray/session_2020-02-24_12-31-05_807697_9762'}"
      ]
     },
     "execution_count": 3,
     "metadata": {},
     "output_type": "execute_result"
    }
   ],
   "source": [
    "# initialize ray\n",
    "# https://ray.readthedocs.io/en/latest/package-ref.html#ray.init\n",
    "ray.init(ignore_reinit_error=True, log_to_driver=False, webui_host='0.0.0.0')\n"
   ]
  },
  {
   "cell_type": "code",
   "execution_count": null,
   "metadata": {},
   "outputs": [],
   "source": [
    "# run one training iteration\n",
    "# https://github.com/ray-project/ray/blob/master/rllib/agents/ppo/ppo.py\n",
    "from ray.rllib.agents.ppo import PPOTrainer, DEFAULT_CONFIG\n",
    "\n",
    "env_name = 'CartPole-v1'\n",
    "\n",
    "ppo_config = DEFAULT_CONFIG.copy()\n",
    "if n_gpus:\n",
    "    ppo_config['num_gpus'] = n_gpus\n",
    "    ppo_config['tf_session_args']['device_count']['GPU'] = n_gpus\n",
    "\n",
    "ppo_config['num_workers'] = 1\n",
    "ppo_config['num_sgd_iter'] = 2\n",
    "ppo_config['sgd_minibatch_size'] = 128\n",
    "ppo_config['lr'] = 0.0003\n",
    "ppo_config['gamma'] = 0.99\n",
    "ppo_config['model']['fcnet_hiddens'] = [64, 64]\n",
    "ppo_config['timesteps_per_iteration'] = 2000\n",
    "ppo_config['train_batch_size'] = 8000\n",
    "ppo_config['num_cpus_per_worker'] = 0  # This avoids running out of resources in the notebook environment when this cell is re-executed\n",
    "\n",
    "agent = PPOTrainer(ppo_config, env_name)\n",
    "result = agent.train()\n",
    "\n",
    "result"
   ]
  },
  {
   "cell_type": "code",
   "execution_count": null,
   "metadata": {},
   "outputs": [],
   "source": [
    "# tune hyperparamters with grid search\n",
    "# https://github.com/ray-project/ray/blob/master/python/ray/tune/tune.py\n",
    "ray.init(ignore_reinit_error=True)\n",
    "env_name = 'CartPole-v1'\n",
    "ppo_config = {\n",
    "    \"env\": env_name,\n",
    "    \"num_workers\": 1,\n",
    "    'model': {\n",
    "        'fcnet_hiddens': tune.grid_search([\n",
    "                                           [16, 16], [32, 32], [64, 64], [128, 128],\n",
    "                                          ])\n",
    "    },        \n",
    "    'train_batch_size': 1000,\n",
    "    \"lr\": tune.grid_search([0.0003, 0.0001]),\n",
    "    'gamma': tune.grid_search([0.99, 0.999]),\n",
    "    \"eager\": False,\n",
    "    'num_gpus': n_gpus  \n",
    "}\n",
    "                      \n",
    "analysis = tune.run(\n",
    "    \"PPO\",\n",
    "    name='cartpole_test',\n",
    "    verbose=1,\n",
    "\n",
    "    stop={\"episode_reward_mean\": 300},  # stop when a parameter set is able to reach 300 timesteps\n",
    "    config = ppo_config,\n",
    "    checkpoint_freq=10,\n",
    "    checkpoint_at_end=True,\n",
    "    checkpoint_score_attr='episode_reward_mean',\n",
    "    num_samples=1,  # for grid search, number of times to run each hyperparameter combo\n",
    "    #     with_server=True,\n",
    "    #     server_port=8267,\n",
    ")\n"
   ]
  }
 ],
 "metadata": {
  "kernelspec": {
   "display_name": "tf_gpu",
   "language": "python",
   "name": "tf_gpu"
  },
  "language_info": {
   "codemirror_mode": {
    "name": "ipython",
    "version": 3
   },
   "file_extension": ".py",
   "mimetype": "text/x-python",
   "name": "python",
   "nbconvert_exporter": "python",
   "pygments_lexer": "ipython3",
   "version": "3.7.6"
  }
 },
 "nbformat": 4,
 "nbformat_minor": 4
}
