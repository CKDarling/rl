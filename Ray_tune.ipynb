{
 "cells": [
  {
   "cell_type": "code",
   "execution_count": 26,
   "metadata": {},
   "outputs": [
    {
     "data": {
      "text/plain": [
       "8"
      ]
     },
     "execution_count": 26,
     "metadata": {},
     "output_type": "execute_result"
    }
   ],
   "source": [
    "import multiprocessing\n",
    "import json\n",
    "\n",
    "import numpy as np\n",
    "import pandas as pd\n",
    "\n",
    "import tensorflow as tf\n",
    "\n",
    "import ray\n",
    "from ray import tune\n",
    "\n",
    "from matplotlib import pyplot as plt\n",
    "import seaborn as sns\n",
    "\n",
    "import gym\n",
    "\n",
    "n_cpus = multiprocessing.cpu_count()\n",
    "n_cpus"
   ]
  },
  {
   "cell_type": "code",
   "execution_count": 2,
   "metadata": {},
   "outputs": [
    {
     "data": {
      "text/plain": [
       "0"
      ]
     },
     "execution_count": 2,
     "metadata": {},
     "output_type": "execute_result"
    }
   ],
   "source": [
    "n_gpus = len(tf.config.list_physical_devices('GPU'))\n",
    "n_gpus"
   ]
  },
  {
   "cell_type": "code",
   "execution_count": 3,
   "metadata": {},
   "outputs": [
    {
     "name": "stderr",
     "output_type": "stream",
     "text": [
      "2020-02-24 08:12:17,850\tINFO resource_spec.py:212 -- Starting Ray with 0.93 GiB memory available for workers and up to 0.49 GiB for objects. You can adjust these settings with ray.init(memory=<bytes>, object_store_memory=<bytes>).\n",
      "2020-02-24 08:12:18,353\tINFO services.py:1093 -- View the Ray dashboard at \u001b[1m\u001b[32m192.168.0.35:8265\u001b[39m\u001b[22m\n"
     ]
    },
    {
     "data": {
      "text/plain": [
       "{'node_ip_address': '192.168.0.35',\n",
       " 'redis_address': '192.168.0.35:27538',\n",
       " 'object_store_address': '/tmp/ray/session_2020-02-24_08-12-17_832595_18052/sockets/plasma_store',\n",
       " 'raylet_socket_name': '/tmp/ray/session_2020-02-24_08-12-17_832595_18052/sockets/raylet',\n",
       " 'webui_url': '192.168.0.35:8265',\n",
       " 'session_dir': '/tmp/ray/session_2020-02-24_08-12-17_832595_18052'}"
      ]
     },
     "execution_count": 3,
     "metadata": {},
     "output_type": "execute_result"
    }
   ],
   "source": [
    "# initialize ray\n",
    "# https://ray.readthedocs.io/en/latest/package-ref.html#ray.init\n",
    "ray.init(ignore_reinit_error=True, log_to_driver=False, webui_host='0.0.0.0')\n"
   ]
  },
  {
   "cell_type": "code",
   "execution_count": 4,
   "metadata": {},
   "outputs": [
    {
     "name": "stderr",
     "output_type": "stream",
     "text": [
      "2020-02-24 08:12:22,565\tINFO trainer.py:370 -- Tip: set 'eager': true or the --eager flag to enable TensorFlow eager execution\n",
      "2020-02-24 08:12:22,580\tINFO trainer.py:517 -- Current log_level is WARN. For more information, set 'log_level': 'INFO' / 'DEBUG' or use the -v and -vv flags.\n",
      "2020-02-24 08:12:26,255\tWARNING util.py:41 -- Install gputil for GPU system monitoring.\n"
     ]
    },
    {
     "data": {
      "text/plain": [
       "{'episode_reward_max': 78.0,\n",
       " 'episode_reward_min': 9.0,\n",
       " 'episode_reward_mean': 22.278551532033426,\n",
       " 'episode_len_mean': 22.278551532033426,\n",
       " 'episodes_this_iter': 359,\n",
       " 'policy_reward_min': {},\n",
       " 'policy_reward_max': {},\n",
       " 'policy_reward_mean': {},\n",
       " 'custom_metrics': {},\n",
       " 'sampler_perf': {'mean_env_wait_ms': 0.059487119106602156,\n",
       "  'mean_processing_ms': 0.16085136951379306,\n",
       "  'mean_inference_ms': 0.708223089488234},\n",
       " 'off_policy_estimator': {},\n",
       " 'info': {'num_steps_trained': 7936,\n",
       "  'num_steps_sampled': 8000,\n",
       "  'sample_time_ms': 11512.623,\n",
       "  'load_time_ms': 73.422,\n",
       "  'grad_time_ms': 719.532,\n",
       "  'update_time_ms': 1025.843,\n",
       "  'learner': {'default_policy': {'cur_kl_coeff': 0.20000000298023224,\n",
       "    'cur_lr': 0.0003000000142492354,\n",
       "    'total_loss': 229.16316,\n",
       "    'policy_loss': -0.029305335,\n",
       "    'vf_loss': 229.18803,\n",
       "    'vf_explained_var': 0.0040568085,\n",
       "    'kl': 0.02210495,\n",
       "    'entropy': 0.6714521,\n",
       "    'entropy_coeff': 0.0}}},\n",
       " 'timesteps_this_iter': 8000,\n",
       " 'done': False,\n",
       " 'timesteps_total': 8000,\n",
       " 'episodes_total': 359,\n",
       " 'training_iteration': 1,\n",
       " 'experiment_id': '9f03459285704f18a85355dddfcf01b1',\n",
       " 'date': '2020-02-24_08-12-39',\n",
       " 'timestamp': 1582549959,\n",
       " 'time_this_iter_s': 13.396717071533203,\n",
       " 'time_total_s': 13.396717071533203,\n",
       " 'pid': 18052,\n",
       " 'hostname': 'MacDruce.local',\n",
       " 'node_ip': '192.168.0.35',\n",
       " 'config': {'num_workers': 1,\n",
       "  'num_envs_per_worker': 1,\n",
       "  'sample_batch_size': 200,\n",
       "  'batch_mode': 'truncate_episodes',\n",
       "  'num_gpus': 0,\n",
       "  'train_batch_size': 8000,\n",
       "  'model': {'conv_filters': None,\n",
       "   'conv_activation': 'relu',\n",
       "   'fcnet_activation': 'tanh',\n",
       "   'fcnet_hiddens': [64, 64],\n",
       "   'free_log_std': False,\n",
       "   'no_final_linear': False,\n",
       "   'vf_share_layers': True,\n",
       "   'use_lstm': False,\n",
       "   'max_seq_len': 20,\n",
       "   'lstm_cell_size': 256,\n",
       "   'lstm_use_prev_action_reward': False,\n",
       "   'state_shape': None,\n",
       "   'framestack': True,\n",
       "   'dim': 84,\n",
       "   'grayscale': False,\n",
       "   'zero_mean': True,\n",
       "   'custom_preprocessor': None,\n",
       "   'custom_model': None,\n",
       "   'custom_action_dist': None,\n",
       "   'custom_options': {}},\n",
       "  'optimizer': {},\n",
       "  'gamma': 0.99,\n",
       "  'horizon': None,\n",
       "  'soft_horizon': False,\n",
       "  'no_done_at_end': False,\n",
       "  'env_config': {},\n",
       "  'env': 'CartPole-v1',\n",
       "  'normalize_actions': False,\n",
       "  'clip_rewards': None,\n",
       "  'clip_actions': True,\n",
       "  'preprocessor_pref': 'deepmind',\n",
       "  'lr': 0.0003,\n",
       "  'monitor': False,\n",
       "  'log_level': 'WARN',\n",
       "  'callbacks': {'on_episode_start': None,\n",
       "   'on_episode_step': None,\n",
       "   'on_episode_end': None,\n",
       "   'on_sample_end': None,\n",
       "   'on_train_result': None,\n",
       "   'on_postprocess_traj': None},\n",
       "  'ignore_worker_failures': False,\n",
       "  'log_sys_usage': True,\n",
       "  'eager': False,\n",
       "  'eager_tracing': False,\n",
       "  'no_eager_on_workers': False,\n",
       "  'evaluation_interval': None,\n",
       "  'evaluation_num_episodes': 10,\n",
       "  'evaluation_config': {},\n",
       "  'sample_async': False,\n",
       "  'observation_filter': 'NoFilter',\n",
       "  'synchronize_filters': True,\n",
       "  'tf_session_args': {'intra_op_parallelism_threads': 2,\n",
       "   'inter_op_parallelism_threads': 2,\n",
       "   'gpu_options': {'allow_growth': True},\n",
       "   'log_device_placement': False,\n",
       "   'device_count': {'CPU': 1},\n",
       "   'allow_soft_placement': True},\n",
       "  'local_tf_session_args': {'intra_op_parallelism_threads': 8,\n",
       "   'inter_op_parallelism_threads': 8},\n",
       "  'compress_observations': False,\n",
       "  'collect_metrics_timeout': 180,\n",
       "  'metrics_smoothing_episodes': 100,\n",
       "  'remote_worker_envs': False,\n",
       "  'remote_env_batch_wait_ms': 0,\n",
       "  'min_iter_time_s': 0,\n",
       "  'timesteps_per_iteration': 2000,\n",
       "  'seed': None,\n",
       "  'num_cpus_per_worker': 0,\n",
       "  'num_gpus_per_worker': 0,\n",
       "  'custom_resources_per_worker': {},\n",
       "  'num_cpus_for_driver': 1,\n",
       "  'memory': 0,\n",
       "  'object_store_memory': 0,\n",
       "  'memory_per_worker': 0,\n",
       "  'object_store_memory_per_worker': 0,\n",
       "  'input': 'sampler',\n",
       "  'input_evaluation': ['is', 'wis'],\n",
       "  'postprocess_inputs': False,\n",
       "  'shuffle_buffer_size': 0,\n",
       "  'output': None,\n",
       "  'output_compress_columns': ['obs', 'new_obs'],\n",
       "  'output_max_file_size': 67108864,\n",
       "  'multiagent': {'policies': {},\n",
       "   'policy_mapping_fn': None,\n",
       "   'policies_to_train': None},\n",
       "  'use_gae': True,\n",
       "  'lambda': 1.0,\n",
       "  'kl_coeff': 0.2,\n",
       "  'sgd_minibatch_size': 128,\n",
       "  'shuffle_sequences': True,\n",
       "  'num_sgd_iter': 2,\n",
       "  'lr_schedule': None,\n",
       "  'vf_share_layers': False,\n",
       "  'vf_loss_coeff': 1.0,\n",
       "  'entropy_coeff': 0.0,\n",
       "  'entropy_coeff_schedule': None,\n",
       "  'clip_param': 0.3,\n",
       "  'vf_clip_param': 10.0,\n",
       "  'grad_clip': None,\n",
       "  'kl_target': 0.01,\n",
       "  'simple_optimizer': False},\n",
       " 'time_since_restore': 13.396717071533203,\n",
       " 'timesteps_since_restore': 8000,\n",
       " 'iterations_since_restore': 1,\n",
       " 'perf': {'cpu_util_percent': 38.59, 'ram_util_percent': 80.28999999999999},\n",
       " 'num_healthy_workers': 1}"
      ]
     },
     "execution_count": 4,
     "metadata": {},
     "output_type": "execute_result"
    }
   ],
   "source": [
    "# run one training iteration\n",
    "# https://github.com/ray-project/ray/blob/master/rllib/agents/ppo/ppo.py\n",
    "from ray.rllib.agents.ppo import PPOTrainer, DEFAULT_CONFIG\n",
    "\n",
    "env_name = 'CartPole-v1'\n",
    "\n",
    "ppo_config = DEFAULT_CONFIG.copy()\n",
    "if n_gpus:\n",
    "    ppo_config['num_gpus'] = n_gpus\n",
    "    ppo_config['tf_session_args']['device_count']['GPU'] = n_gpus\n",
    "\n",
    "ppo_config['num_workers'] = 1\n",
    "ppo_config['num_sgd_iter'] = 2\n",
    "ppo_config['sgd_minibatch_size'] = 128\n",
    "ppo_config['lr'] = 0.0003\n",
    "ppo_config['gamma'] = 0.99\n",
    "ppo_config['model']['fcnet_hiddens'] = [64, 64]\n",
    "ppo_config['timesteps_per_iteration'] = 2000\n",
    "ppo_config['train_batch_size'] = 8000\n",
    "ppo_config['num_cpus_per_worker'] = 0  # This avoids running out of resources in the notebook environment when this cell is re-executed\n",
    "\n",
    "agent = PPOTrainer(ppo_config, env_name)\n",
    "result = agent.train()\n",
    "\n",
    "result"
   ]
  },
  {
   "cell_type": "code",
   "execution_count": 5,
   "metadata": {},
   "outputs": [
    {
     "data": {
      "text/html": [
       "== Status ==<br>Memory usage on this node: 5.3/8.0 GiB<br>Using FIFO scheduling algorithm.<br>Resources requested: 0/8 CPUs, 0/0 GPUs, 0.0/0.93 GiB heap, 0.0/0.29 GiB objects<br>Result logdir: /Users/druce/ray_results/cartpole_test<br>Number of trials: 16 (16 TERMINATED)<br><table>\n",
       "<thead>\n",
       "<tr><th>Trial name              </th><th>status    </th><th>loc  </th><th style=\"text-align: right;\">  gamma</th><th>model/fcnet_hiddens  </th><th style=\"text-align: right;\">    lr</th><th style=\"text-align: right;\">  iter</th><th style=\"text-align: right;\">  total time (s)</th><th style=\"text-align: right;\">  timesteps</th><th style=\"text-align: right;\">  reward</th></tr>\n",
       "</thead>\n",
       "<tbody>\n",
       "<tr><td>PPO_CartPole-v1_55716dc2</td><td>TERMINATED</td><td>     </td><td style=\"text-align: right;\">  0.99 </td><td>[16, 16]             </td><td style=\"text-align: right;\">0.0003</td><td style=\"text-align: right;\">    37</td><td style=\"text-align: right;\">         72.3838</td><td style=\"text-align: right;\">      37000</td><td style=\"text-align: right;\">  301.61</td></tr>\n",
       "<tr><td>PPO_CartPole-v1_5575d678</td><td>TERMINATED</td><td>     </td><td style=\"text-align: right;\">  0.999</td><td>[16, 16]             </td><td style=\"text-align: right;\">0.0003</td><td style=\"text-align: right;\">    37</td><td style=\"text-align: right;\">         69.2739</td><td style=\"text-align: right;\">      37000</td><td style=\"text-align: right;\">  305.63</td></tr>\n",
       "<tr><td>PPO_CartPole-v1_5576350a</td><td>TERMINATED</td><td>     </td><td style=\"text-align: right;\">  0.99 </td><td>[16, 16]             </td><td style=\"text-align: right;\">0.0001</td><td style=\"text-align: right;\">    37</td><td style=\"text-align: right;\">         69.1063</td><td style=\"text-align: right;\">      37000</td><td style=\"text-align: right;\">  301.04</td></tr>\n",
       "<tr><td>PPO_CartPole-v1_55769fe8</td><td>TERMINATED</td><td>     </td><td style=\"text-align: right;\">  0.999</td><td>[16, 16]             </td><td style=\"text-align: right;\">0.0001</td><td style=\"text-align: right;\">    52</td><td style=\"text-align: right;\">         95.8766</td><td style=\"text-align: right;\">      52000</td><td style=\"text-align: right;\">  301.61</td></tr>\n",
       "<tr><td>PPO_CartPole-v1_5576e888</td><td>TERMINATED</td><td>     </td><td style=\"text-align: right;\">  0.99 </td><td>[32, 32]             </td><td style=\"text-align: right;\">0.0003</td><td style=\"text-align: right;\">    33</td><td style=\"text-align: right;\">         66.8736</td><td style=\"text-align: right;\">      33000</td><td style=\"text-align: right;\">  300.09</td></tr>\n",
       "<tr><td>PPO_CartPole-v1_557734e6</td><td>TERMINATED</td><td>     </td><td style=\"text-align: right;\">  0.999</td><td>[32, 32]             </td><td style=\"text-align: right;\">0.0003</td><td style=\"text-align: right;\">    35</td><td style=\"text-align: right;\">         70.71  </td><td style=\"text-align: right;\">      35000</td><td style=\"text-align: right;\">  301.44</td></tr>\n",
       "<tr><td>PPO_CartPole-v1_55777d7a</td><td>TERMINATED</td><td>     </td><td style=\"text-align: right;\">  0.99 </td><td>[32, 32]             </td><td style=\"text-align: right;\">0.0001</td><td style=\"text-align: right;\">    36</td><td style=\"text-align: right;\">         72.8281</td><td style=\"text-align: right;\">      36000</td><td style=\"text-align: right;\">  304.42</td></tr>\n",
       "<tr><td>PPO_CartPole-v1_5577be70</td><td>TERMINATED</td><td>     </td><td style=\"text-align: right;\">  0.999</td><td>[32, 32]             </td><td style=\"text-align: right;\">0.0001</td><td style=\"text-align: right;\">    35</td><td style=\"text-align: right;\">         78.7444</td><td style=\"text-align: right;\">      35000</td><td style=\"text-align: right;\">  302.86</td></tr>\n",
       "<tr><td>PPO_CartPole-v1_55780362</td><td>TERMINATED</td><td>     </td><td style=\"text-align: right;\">  0.99 </td><td>[64, 64]             </td><td style=\"text-align: right;\">0.0003</td><td style=\"text-align: right;\">    34</td><td style=\"text-align: right;\">         77.7757</td><td style=\"text-align: right;\">      34000</td><td style=\"text-align: right;\">  306.5 </td></tr>\n",
       "<tr><td>PPO_CartPole-v1_55784d22</td><td>TERMINATED</td><td>     </td><td style=\"text-align: right;\">  0.999</td><td>[64, 64]             </td><td style=\"text-align: right;\">0.0003</td><td style=\"text-align: right;\">    33</td><td style=\"text-align: right;\">         74.4075</td><td style=\"text-align: right;\">      33000</td><td style=\"text-align: right;\">  308.01</td></tr>\n",
       "<tr><td>PPO_CartPole-v1_5578b014</td><td>TERMINATED</td><td>     </td><td style=\"text-align: right;\">  0.99 </td><td>[64, 64]             </td><td style=\"text-align: right;\">0.0001</td><td style=\"text-align: right;\">    34</td><td style=\"text-align: right;\">         80.1844</td><td style=\"text-align: right;\">      34000</td><td style=\"text-align: right;\">  303.64</td></tr>\n",
       "<tr><td>PPO_CartPole-v1_557901e2</td><td>TERMINATED</td><td>     </td><td style=\"text-align: right;\">  0.999</td><td>[64, 64]             </td><td style=\"text-align: right;\">0.0001</td><td style=\"text-align: right;\">    36</td><td style=\"text-align: right;\">         89.3608</td><td style=\"text-align: right;\">      36000</td><td style=\"text-align: right;\">  307.93</td></tr>\n",
       "<tr><td>PPO_CartPole-v1_557945ba</td><td>TERMINATED</td><td>     </td><td style=\"text-align: right;\">  0.99 </td><td>[128, 128]           </td><td style=\"text-align: right;\">0.0003</td><td style=\"text-align: right;\">    32</td><td style=\"text-align: right;\">         81.0469</td><td style=\"text-align: right;\">      32000</td><td style=\"text-align: right;\">  303.71</td></tr>\n",
       "<tr><td>PPO_CartPole-v1_55798cb4</td><td>TERMINATED</td><td>     </td><td style=\"text-align: right;\">  0.999</td><td>[128, 128]           </td><td style=\"text-align: right;\">0.0003</td><td style=\"text-align: right;\">    33</td><td style=\"text-align: right;\">         83.4826</td><td style=\"text-align: right;\">      33000</td><td style=\"text-align: right;\">  308.22</td></tr>\n",
       "<tr><td>PPO_CartPole-v1_5579d462</td><td>TERMINATED</td><td>     </td><td style=\"text-align: right;\">  0.99 </td><td>[128, 128]           </td><td style=\"text-align: right;\">0.0001</td><td style=\"text-align: right;\">    33</td><td style=\"text-align: right;\">         83.482 </td><td style=\"text-align: right;\">      33000</td><td style=\"text-align: right;\">  302.16</td></tr>\n",
       "<tr><td>PPO_CartPole-v1_557a1922</td><td>TERMINATED</td><td>     </td><td style=\"text-align: right;\">  0.999</td><td>[128, 128]           </td><td style=\"text-align: right;\">0.0001</td><td style=\"text-align: right;\">    34</td><td style=\"text-align: right;\">         66.556 </td><td style=\"text-align: right;\">      34000</td><td style=\"text-align: right;\">  308.21</td></tr>\n",
       "</tbody>\n",
       "</table><br><br>"
      ],
      "text/plain": [
       "<IPython.core.display.HTML object>"
      ]
     },
     "metadata": {},
     "output_type": "display_data"
    },
    {
     "name": "stderr",
     "output_type": "stream",
     "text": [
      "2020-02-24 08:19:07,827\tINFO tune.py:330 -- Returning an analysis object by default. You can call `analysis.trials` to retrieve a list of trials. This message will be removed in future versions of Tune.\n"
     ]
    }
   ],
   "source": [
    "# tune hyperparamters with grid search\n",
    "# https://github.com/ray-project/ray/blob/master/python/ray/tune/tune.py\n",
    "ray.init(ignore_reinit_error=True)\n",
    "env_name = 'CartPole-v1'\n",
    "ppo_config = {\n",
    "    \"env\": env_name,\n",
    "    \"num_workers\": 1,\n",
    "    'model': {\n",
    "        'fcnet_hiddens': tune.grid_search([\n",
    "                                           [16, 16], [32, 32], [64, 64], [128, 128],\n",
    "                                          ])\n",
    "    },        \n",
    "    'train_batch_size': 1000,\n",
    "    \"lr\": tune.grid_search([0.0003, 0.0001]),\n",
    "    'gamma': tune.grid_search([0.99, 0.999]),\n",
    "    \"eager\": False,\n",
    "    'num_gpus': n_gpus  \n",
    "}\n",
    "                      \n",
    "analysis = tune.run(\n",
    "    \"PPO\",\n",
    "    name='cartpole_test',\n",
    "    verbose=1,\n",
    "\n",
    "    stop={\"episode_reward_mean\": 300},  # stop when a parameter set is able to reach 300 timesteps\n",
    "    config = ppo_config,\n",
    "    checkpoint_freq=10,\n",
    "    checkpoint_at_end=True,\n",
    "    checkpoint_score_attr='episode_reward_mean',\n",
    "    num_samples=1,  # for grid search, number of times to run each hyperparameter combo\n",
    "    #     with_server=True,\n",
    "    #     server_port=8267,\n",
    ")\n"
   ]
  },
  {
   "cell_type": "code",
   "execution_count": 6,
   "metadata": {},
   "outputs": [
    {
     "data": {
      "image/png": "[encoded data removed]",
      "text/plain": [
       "<Figure size 432x288 with 1 Axes>"
      ]
     },
     "metadata": {
      "needs_background": "light"
     },
     "output_type": "display_data"
    }
   ],
   "source": [
    "dfs = analysis.trial_dataframes\n",
    "\n",
    "# Plot by epoch\n",
    "ax = None  # This plots everything on the same plot\n",
    "for d in dfs.values():\n",
    "    ax = d.episode_reward_mean.plot(ax=ax, legend=False)\n",
    "    "
   ]
  },
  {
   "cell_type": "code",
   "execution_count": 7,
   "metadata": {},
   "outputs": [
    {
     "data": {
      "text/html": [
       "<div>\n",
       "<style scoped>\n",
       "    .dataframe tbody tr th:only-of-type {\n",
       "        vertical-align: middle;\n",
       "    }\n",
       "\n",
       "    .dataframe tbody tr th {\n",
       "        vertical-align: top;\n",
       "    }\n",
       "\n",
       "    .dataframe thead th {\n",
       "        text-align: right;\n",
       "    }\n",
       "</style>\n",
       "<table border=\"1\" class=\"dataframe\">\n",
       "  <thead>\n",
       "    <tr style=\"text-align: right;\">\n",
       "      <th></th>\n",
       "      <th>config/lr</th>\n",
       "      <th>config/gamma</th>\n",
       "      <th>config/model</th>\n",
       "      <th>episode_reward_mean</th>\n",
       "      <th>timesteps_total</th>\n",
       "    </tr>\n",
       "  </thead>\n",
       "  <tbody>\n",
       "    <tr>\n",
       "      <th>12</th>\n",
       "      <td>0.0003</td>\n",
       "      <td>0.990</td>\n",
       "      <td>{'fcnet_hiddens': [128, 128]}</td>\n",
       "      <td>303.71</td>\n",
       "      <td>32000</td>\n",
       "    </tr>\n",
       "    <tr>\n",
       "      <th>4</th>\n",
       "      <td>0.0003</td>\n",
       "      <td>0.990</td>\n",
       "      <td>{'fcnet_hiddens': [32, 32]}</td>\n",
       "      <td>300.09</td>\n",
       "      <td>33000</td>\n",
       "    </tr>\n",
       "    <tr>\n",
       "      <th>14</th>\n",
       "      <td>0.0001</td>\n",
       "      <td>0.990</td>\n",
       "      <td>{'fcnet_hiddens': [128, 128]}</td>\n",
       "      <td>302.16</td>\n",
       "      <td>33000</td>\n",
       "    </tr>\n",
       "    <tr>\n",
       "      <th>9</th>\n",
       "      <td>0.0003</td>\n",
       "      <td>0.999</td>\n",
       "      <td>{'fcnet_hiddens': [64, 64]}</td>\n",
       "      <td>308.01</td>\n",
       "      <td>33000</td>\n",
       "    </tr>\n",
       "    <tr>\n",
       "      <th>13</th>\n",
       "      <td>0.0003</td>\n",
       "      <td>0.999</td>\n",
       "      <td>{'fcnet_hiddens': [128, 128]}</td>\n",
       "      <td>308.22</td>\n",
       "      <td>33000</td>\n",
       "    </tr>\n",
       "    <tr>\n",
       "      <th>10</th>\n",
       "      <td>0.0001</td>\n",
       "      <td>0.990</td>\n",
       "      <td>{'fcnet_hiddens': [64, 64]}</td>\n",
       "      <td>303.64</td>\n",
       "      <td>34000</td>\n",
       "    </tr>\n",
       "    <tr>\n",
       "      <th>8</th>\n",
       "      <td>0.0003</td>\n",
       "      <td>0.990</td>\n",
       "      <td>{'fcnet_hiddens': [64, 64]}</td>\n",
       "      <td>306.50</td>\n",
       "      <td>34000</td>\n",
       "    </tr>\n",
       "    <tr>\n",
       "      <th>15</th>\n",
       "      <td>0.0001</td>\n",
       "      <td>0.999</td>\n",
       "      <td>{'fcnet_hiddens': [128, 128]}</td>\n",
       "      <td>308.21</td>\n",
       "      <td>34000</td>\n",
       "    </tr>\n",
       "    <tr>\n",
       "      <th>5</th>\n",
       "      <td>0.0003</td>\n",
       "      <td>0.999</td>\n",
       "      <td>{'fcnet_hiddens': [32, 32]}</td>\n",
       "      <td>301.44</td>\n",
       "      <td>35000</td>\n",
       "    </tr>\n",
       "    <tr>\n",
       "      <th>7</th>\n",
       "      <td>0.0001</td>\n",
       "      <td>0.999</td>\n",
       "      <td>{'fcnet_hiddens': [32, 32]}</td>\n",
       "      <td>302.86</td>\n",
       "      <td>35000</td>\n",
       "    </tr>\n",
       "    <tr>\n",
       "      <th>6</th>\n",
       "      <td>0.0001</td>\n",
       "      <td>0.990</td>\n",
       "      <td>{'fcnet_hiddens': [32, 32]}</td>\n",
       "      <td>304.42</td>\n",
       "      <td>36000</td>\n",
       "    </tr>\n",
       "    <tr>\n",
       "      <th>11</th>\n",
       "      <td>0.0001</td>\n",
       "      <td>0.999</td>\n",
       "      <td>{'fcnet_hiddens': [64, 64]}</td>\n",
       "      <td>307.93</td>\n",
       "      <td>36000</td>\n",
       "    </tr>\n",
       "    <tr>\n",
       "      <th>2</th>\n",
       "      <td>0.0001</td>\n",
       "      <td>0.990</td>\n",
       "      <td>{'fcnet_hiddens': [16, 16]}</td>\n",
       "      <td>301.04</td>\n",
       "      <td>37000</td>\n",
       "    </tr>\n",
       "    <tr>\n",
       "      <th>0</th>\n",
       "      <td>0.0003</td>\n",
       "      <td>0.990</td>\n",
       "      <td>{'fcnet_hiddens': [16, 16]}</td>\n",
       "      <td>301.61</td>\n",
       "      <td>37000</td>\n",
       "    </tr>\n",
       "    <tr>\n",
       "      <th>1</th>\n",
       "      <td>0.0003</td>\n",
       "      <td>0.999</td>\n",
       "      <td>{'fcnet_hiddens': [16, 16]}</td>\n",
       "      <td>305.63</td>\n",
       "      <td>37000</td>\n",
       "    </tr>\n",
       "    <tr>\n",
       "      <th>3</th>\n",
       "      <td>0.0001</td>\n",
       "      <td>0.999</td>\n",
       "      <td>{'fcnet_hiddens': [16, 16]}</td>\n",
       "      <td>301.61</td>\n",
       "      <td>52000</td>\n",
       "    </tr>\n",
       "  </tbody>\n",
       "</table>\n",
       "</div>"
      ],
      "text/plain": [
       "    config/lr  config/gamma                   config/model  \\\n",
       "12     0.0003         0.990  {'fcnet_hiddens': [128, 128]}   \n",
       "4      0.0003         0.990    {'fcnet_hiddens': [32, 32]}   \n",
       "14     0.0001         0.990  {'fcnet_hiddens': [128, 128]}   \n",
       "9      0.0003         0.999    {'fcnet_hiddens': [64, 64]}   \n",
       "13     0.0003         0.999  {'fcnet_hiddens': [128, 128]}   \n",
       "10     0.0001         0.990    {'fcnet_hiddens': [64, 64]}   \n",
       "8      0.0003         0.990    {'fcnet_hiddens': [64, 64]}   \n",
       "15     0.0001         0.999  {'fcnet_hiddens': [128, 128]}   \n",
       "5      0.0003         0.999    {'fcnet_hiddens': [32, 32]}   \n",
       "7      0.0001         0.999    {'fcnet_hiddens': [32, 32]}   \n",
       "6      0.0001         0.990    {'fcnet_hiddens': [32, 32]}   \n",
       "11     0.0001         0.999    {'fcnet_hiddens': [64, 64]}   \n",
       "2      0.0001         0.990    {'fcnet_hiddens': [16, 16]}   \n",
       "0      0.0003         0.990    {'fcnet_hiddens': [16, 16]}   \n",
       "1      0.0003         0.999    {'fcnet_hiddens': [16, 16]}   \n",
       "3      0.0001         0.999    {'fcnet_hiddens': [16, 16]}   \n",
       "\n",
       "    episode_reward_mean  timesteps_total  \n",
       "12               303.71            32000  \n",
       "4                300.09            33000  \n",
       "14               302.16            33000  \n",
       "9                308.01            33000  \n",
       "13               308.22            33000  \n",
       "10               303.64            34000  \n",
       "8                306.50            34000  \n",
       "15               308.21            34000  \n",
       "5                301.44            35000  \n",
       "7                302.86            35000  \n",
       "6                304.42            36000  \n",
       "11               307.93            36000  \n",
       "2                301.04            37000  \n",
       "0                301.61            37000  \n",
       "1                305.63            37000  \n",
       "3                301.61            52000  "
      ]
     },
     "execution_count": 7,
     "metadata": {},
     "output_type": "execute_result"
    }
   ],
   "source": [
    "analysis.dataframe().sort_values(['timesteps_total','episode_reward_mean'])[['config/lr', \n",
    "                                                                             'config/gamma', \n",
    "                                                                             'config/model', \n",
    "                                                                             'episode_reward_mean', \n",
    "                                                                             'timesteps_total']]\n"
   ]
  },
  {
   "cell_type": "code",
   "execution_count": 8,
   "metadata": {},
   "outputs": [
    {
     "data": {
      "text/html": [
       "<div>\n",
       "<style scoped>\n",
       "    .dataframe tbody tr th:only-of-type {\n",
       "        vertical-align: middle;\n",
       "    }\n",
       "\n",
       "    .dataframe tbody tr th {\n",
       "        vertical-align: top;\n",
       "    }\n",
       "\n",
       "    .dataframe thead th {\n",
       "        text-align: right;\n",
       "    }\n",
       "</style>\n",
       "<table border=\"1\" class=\"dataframe\">\n",
       "  <thead>\n",
       "    <tr style=\"text-align: right;\">\n",
       "      <th></th>\n",
       "      <th>timesteps_total</th>\n",
       "    </tr>\n",
       "    <tr>\n",
       "      <th>config/lr</th>\n",
       "      <th></th>\n",
       "    </tr>\n",
       "  </thead>\n",
       "  <tbody>\n",
       "    <tr>\n",
       "      <th>0.0001</th>\n",
       "      <td>37125</td>\n",
       "    </tr>\n",
       "    <tr>\n",
       "      <th>0.0003</th>\n",
       "      <td>34250</td>\n",
       "    </tr>\n",
       "  </tbody>\n",
       "</table>\n",
       "</div>"
      ],
      "text/plain": [
       "           timesteps_total\n",
       "config/lr                 \n",
       "0.0001               37125\n",
       "0.0003               34250"
      ]
     },
     "execution_count": 8,
     "metadata": {},
     "output_type": "execute_result"
    }
   ],
   "source": [
    "analysis.dataframe()[['config/lr', 'timesteps_total']].groupby('config/lr').mean()"
   ]
  },
  {
   "cell_type": "code",
   "execution_count": 9,
   "metadata": {},
   "outputs": [
    {
     "data": {
      "text/html": [
       "<div>\n",
       "<style scoped>\n",
       "    .dataframe tbody tr th:only-of-type {\n",
       "        vertical-align: middle;\n",
       "    }\n",
       "\n",
       "    .dataframe tbody tr th {\n",
       "        vertical-align: top;\n",
       "    }\n",
       "\n",
       "    .dataframe thead th {\n",
       "        text-align: right;\n",
       "    }\n",
       "</style>\n",
       "<table border=\"1\" class=\"dataframe\">\n",
       "  <thead>\n",
       "    <tr style=\"text-align: right;\">\n",
       "      <th></th>\n",
       "      <th>timesteps_total</th>\n",
       "    </tr>\n",
       "    <tr>\n",
       "      <th>config/gamma</th>\n",
       "      <th></th>\n",
       "    </tr>\n",
       "  </thead>\n",
       "  <tbody>\n",
       "    <tr>\n",
       "      <th>0.990</th>\n",
       "      <td>34500</td>\n",
       "    </tr>\n",
       "    <tr>\n",
       "      <th>0.999</th>\n",
       "      <td>36875</td>\n",
       "    </tr>\n",
       "  </tbody>\n",
       "</table>\n",
       "</div>"
      ],
      "text/plain": [
       "              timesteps_total\n",
       "config/gamma                 \n",
       "0.990                   34500\n",
       "0.999                   36875"
      ]
     },
     "execution_count": 9,
     "metadata": {},
     "output_type": "execute_result"
    }
   ],
   "source": [
    "analysis.dataframe()[['config/gamma', 'timesteps_total']].groupby('config/gamma').mean()"
   ]
  },
  {
   "cell_type": "code",
   "execution_count": 10,
   "metadata": {},
   "outputs": [
    {
     "data": {
      "text/html": [
       "<div>\n",
       "<style scoped>\n",
       "    .dataframe tbody tr th:only-of-type {\n",
       "        vertical-align: middle;\n",
       "    }\n",
       "\n",
       "    .dataframe tbody tr th {\n",
       "        vertical-align: top;\n",
       "    }\n",
       "\n",
       "    .dataframe thead th {\n",
       "        text-align: right;\n",
       "    }\n",
       "</style>\n",
       "<table border=\"1\" class=\"dataframe\">\n",
       "  <thead>\n",
       "    <tr style=\"text-align: right;\">\n",
       "      <th></th>\n",
       "      <th>timesteps_total</th>\n",
       "    </tr>\n",
       "    <tr>\n",
       "      <th>config/model</th>\n",
       "      <th></th>\n",
       "    </tr>\n",
       "  </thead>\n",
       "  <tbody>\n",
       "    <tr>\n",
       "      <th>{'fcnet_hiddens': [128, 128]}</th>\n",
       "      <td>33000</td>\n",
       "    </tr>\n",
       "    <tr>\n",
       "      <th>{'fcnet_hiddens': [64, 64]}</th>\n",
       "      <td>34250</td>\n",
       "    </tr>\n",
       "    <tr>\n",
       "      <th>{'fcnet_hiddens': [32, 32]}</th>\n",
       "      <td>34750</td>\n",
       "    </tr>\n",
       "    <tr>\n",
       "      <th>{'fcnet_hiddens': [16, 16]}</th>\n",
       "      <td>40750</td>\n",
       "    </tr>\n",
       "  </tbody>\n",
       "</table>\n",
       "</div>"
      ],
      "text/plain": [
       "                               timesteps_total\n",
       "config/model                                  \n",
       "{'fcnet_hiddens': [128, 128]}            33000\n",
       "{'fcnet_hiddens': [64, 64]}              34250\n",
       "{'fcnet_hiddens': [32, 32]}              34750\n",
       "{'fcnet_hiddens': [16, 16]}              40750"
      ]
     },
     "execution_count": 10,
     "metadata": {},
     "output_type": "execute_result"
    }
   ],
   "source": [
    "aframe = analysis.dataframe()\n",
    "aframe['config/model'] = aframe['config/model'].astype(str)\n",
    "aframe[['config/model', 'timesteps_total']] \\\n",
    "    .groupby(['config/model']) \\\n",
    "    .mean() \\\n",
    "    .sort_values('timesteps_total') \\\n",
    "    .head(10)"
   ]
  },
  {
   "cell_type": "code",
   "execution_count": 15,
   "metadata": {},
   "outputs": [
    {
     "data": {
      "image/png": "[encoded data removed]",
      "text/plain": [
       "<Figure size 720x720 with 2 Axes>"
      ]
     },
     "metadata": {
      "needs_background": "light"
     },
     "output_type": "display_data"
    }
   ],
   "source": [
    "zframe = analysis.dataframe()[['config/lr', 'config/gamma', 'timesteps_total']]\n",
    "matrix = pd.pivot_table(zframe, \n",
    "                        values='timesteps_total', \n",
    "                        index=['config/lr'], \n",
    "                        columns=['config/gamma'],\n",
    "                        aggfunc=np.mean)\n",
    "\n",
    "fig, ax = plt.subplots(figsize=(10, 10))\n",
    "sns.heatmap(matrix, annot=True, fmt='.0f')\n",
    "plt.ylabel('lr')\n",
    "plt.xlabel('gamma')\n",
    "plt.title(\"Hyperparameter matrix\")\n",
    "plt.show()"
   ]
  },
  {
   "cell_type": "code",
   "execution_count": 16,
   "metadata": {},
   "outputs": [
    {
     "data": {
      "text/plain": [
       "'/Users/druce/ray_results/cartpole_test/PPO_CartPole-v1_55716dc2_2020-02-24_08-12-39p91uxzxa'"
      ]
     },
     "execution_count": 16,
     "metadata": {},
     "output_type": "execute_result"
    }
   ],
   "source": [
    "logdir = analysis.get_best_logdir(\"timesteps_total\", mode=\"min\")\n",
    "logdir"
   ]
  },
  {
   "cell_type": "code",
   "execution_count": 19,
   "metadata": {},
   "outputs": [
    {
     "data": {
      "text/plain": [
       "{'eager': False,\n",
       " 'env': 'CartPole-v1',\n",
       " 'gamma': 0.99,\n",
       " 'lr': 0.0003,\n",
       " 'model': {'fcnet_hiddens': [16, 16]},\n",
       " 'num_gpus': 0,\n",
       " 'num_workers': 1,\n",
       " 'train_batch_size': 1000}"
      ]
     },
     "execution_count": 19,
     "metadata": {},
     "output_type": "execute_result"
    }
   ],
   "source": [
    "with open('%s/params.json' % logdir) as f:\n",
    "    data = json.load(f)\n",
    "data"
   ]
  },
  {
   "cell_type": "code",
   "execution_count": 20,
   "metadata": {},
   "outputs": [
    {
     "data": {
      "text/html": [
       "== Status ==<br>Memory usage on this node: 5.9/8.0 GiB<br>Using FIFO scheduling algorithm.<br>Resources requested: 0/8 CPUs, 0/0 GPUs, 0.0/0.93 GiB heap, 0.0/0.29 GiB objects<br>Result logdir: /Users/druce/ray_results/cartpole_test<br>Number of trials: 1 (1 TERMINATED)<br><table>\n",
       "<thead>\n",
       "<tr><th>Trial name              </th><th>status    </th><th>loc  </th><th style=\"text-align: right;\">  iter</th><th style=\"text-align: right;\">  total time (s)</th><th style=\"text-align: right;\">  timesteps</th><th style=\"text-align: right;\">  reward</th></tr>\n",
       "</thead>\n",
       "<tbody>\n",
       "<tr><td>PPO_CartPole-v1_7f606ae2</td><td>TERMINATED</td><td>     </td><td style=\"text-align: right;\">    15</td><td style=\"text-align: right;\">         99.3712</td><td style=\"text-align: right;\">     150000</td><td style=\"text-align: right;\">     500</td></tr>\n",
       "</tbody>\n",
       "</table><br><br>"
      ],
      "text/plain": [
       "<IPython.core.display.HTML object>"
      ]
     },
     "metadata": {},
     "output_type": "display_data"
    },
    {
     "name": "stderr",
     "output_type": "stream",
     "text": [
      "2020-02-24 08:22:51,992\tINFO tune.py:330 -- Returning an analysis object by default. You can call `analysis.trials` to retrieve a list of trials. This message will be removed in future versions of Tune.\n"
     ]
    }
   ],
   "source": [
    "# train some more, saving checkpoint at end\n",
    "ray.init(num_cpus=n_cpus, num_gpus=n_gpus, ignore_reinit_error=True, log_to_driver=False, webui_host='0.0.0.0')\n",
    "\n",
    "ppo_config = {\n",
    "    \"env\": env_name,\n",
    "    \"num_workers\": n_cpus - 1,\n",
    "    'model': {\n",
    "        'fcnet_hiddens': [16, 16]\n",
    "    },        \n",
    "    'train_batch_size': 10000,\n",
    "    \"lr\": 0.0003,\n",
    "    'gamma': 0.99,\n",
    "    \"eager\": False,\n",
    "    'num_gpus': n_gpus  \n",
    "}\n",
    "                      \n",
    "analysis = tune.run(\n",
    "    \"PPO\",\n",
    "    name='cartpole_test',\n",
    "    verbose=1,\n",
    "\n",
    "    stop={\"episode_reward_mean\": 500},  # stop when a parameter set is able to reach 500 timesteps\n",
    "    config = ppo_config,\n",
    "    checkpoint_freq=10,\n",
    "    checkpoint_at_end=True,\n",
    "    checkpoint_score_attr='episode_reward_mean',\n",
    "    num_samples=1,  # for grid search, number of times to run each hyperparameter combo\n",
    "    #     with_server=True,\n",
    "    #     server_port=8267,\n",
    ")\n"
   ]
  },
  {
   "cell_type": "code",
   "execution_count": 21,
   "metadata": {},
   "outputs": [
    {
     "data": {
      "text/plain": [
       "'/Users/druce/ray_results/cartpole_test/PPO_CartPole-v1_7f606ae2_2020-02-24_08-20-59b4bt028t'"
      ]
     },
     "execution_count": 21,
     "metadata": {},
     "output_type": "execute_result"
    }
   ],
   "source": [
    "list(analysis.trial_dataframes.keys())[0]\n"
   ]
  },
  {
   "cell_type": "code",
   "execution_count": 23,
   "metadata": {},
   "outputs": [
    {
     "name": "stdout",
     "output_type": "stream",
     "text": [
      "\u001b[34mcheckpoint_10\u001b[m\u001b[m\r\n",
      "\u001b[34mcheckpoint_15\u001b[m\u001b[m\r\n",
      "events.out.tfevents.1582550485.MacDruce.local\r\n",
      "params.json\r\n",
      "params.pkl\r\n",
      "progress.csv\r\n",
      "result.json\r\n"
     ]
    }
   ],
   "source": [
    "!ls /Users/druce/ray_results/cartpole_test/PPO_CartPole-v1_7f606ae2_2020-02-24_08-20-59b4bt028t"
   ]
  },
  {
   "cell_type": "code",
   "execution_count": 24,
   "metadata": {},
   "outputs": [
    {
     "name": "stderr",
     "output_type": "stream",
     "text": [
      "2020-02-24 08:24:04,086\tWARNING util.py:41 -- Install gputil for GPU system monitoring.\n",
      "2020-02-24 08:24:04,271\tWARNING trainable.py:210 -- Getting current IP.\n",
      "2020-02-24 08:24:04,275\tINFO trainable.py:416 -- Restored on 192.168.0.35 from checkpoint: /Users/druce/ray_results/cartpole_test/PPO_CartPole-v1_7f606ae2_2020-02-24_08-20-59b4bt028t/checkpoint_15/checkpoint-15\n",
      "2020-02-24 08:24:04,276\tINFO trainable.py:423 -- Current state after restoring: {'_iteration': 15, '_timesteps_total': 150000, '_time_total': 99.37115359306335, '_episodes_total': 1024}\n"
     ]
    }
   ],
   "source": [
    "# load last checkpoint for the runout\n",
    "ckpoint = '/Users/druce/ray_results/cartpole_test/PPO_CartPole-v1_7f606ae2_2020-02-24_08-20-59b4bt028t/checkpoint_15/checkpoint-15'\n",
    "\n",
    "trainer = PPOTrainer(config=ppo_config, env=env_name)\n",
    "trainer.restore(ckpoint)\n"
   ]
  },
  {
   "cell_type": "code",
   "execution_count": 27,
   "metadata": {},
   "outputs": [
    {
     "name": "stdout",
     "output_type": "stream",
     "text": [
      "500.0\n"
     ]
    },
    {
     "data": {
      "text/plain": [
       "500"
      ]
     },
     "execution_count": 27,
     "metadata": {},
     "output_type": "execute_result"
    }
   ],
   "source": [
    "# view the runout\n",
    "\n",
    "env = gym.make(env_name)\n",
    "#env.seed(GLOBAL_SEED)\n",
    "\n",
    "state = env.reset()\n",
    "trainer.compute_action(state)\n",
    "\n",
    "done = False\n",
    "\n",
    "# run an episode\n",
    "timestep = 0\n",
    "r = 0\n",
    "while not done:\n",
    "    env.render()\n",
    "    action = trainer.compute_action(state)\n",
    "    state, reward, done, _ = env.step(action)\n",
    "    r += reward\n",
    "    timestep += 1\n",
    "print(r)\n",
    "env.close()\n",
    "timestep"
   ]
  },
  {
   "cell_type": "code",
   "execution_count": null,
   "metadata": {},
   "outputs": [],
   "source": []
  }
 ],
 "metadata": {
  "kernelspec": {
   "display_name": "MA",
   "language": "python",
   "name": "ma"
  },
  "language_info": {
   "codemirror_mode": {
    "name": "ipython",
    "version": 3
   },
   "file_extension": ".py",
   "mimetype": "text/x-python",
   "name": "python",
   "nbconvert_exporter": "python",
   "pygments_lexer": "ipython3",
   "version": "3.6.10"
  }
 },
 "nbformat": 4,
 "nbformat_minor": 4
}
